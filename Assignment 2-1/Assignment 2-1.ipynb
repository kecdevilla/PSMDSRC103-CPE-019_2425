{
 "cells": [
  {
   "cell_type": "markdown",
   "id": "7cbbe73f-5a39-493c-9e5f-65b2c36381d4",
   "metadata": {},
   "source": [
    "# Assignment 2.1: Supplementary Activities to Creating Modules and Packages"
   ]
  },
  {
   "cell_type": "code",
   "execution_count": 10,
   "id": "e10138e6-5a99-41ab-9f82-2bf2c180dbe5",
   "metadata": {},
   "outputs": [
    {
     "name": "stdin",
     "output_type": "stream",
     "text": [
      "Give me a sentence:  I am a terrible coder.\n"
     ]
    },
    {
     "name": "stdout",
     "output_type": "stream",
     "text": [
      "I am a terrible coder.\n"
     ]
    },
    {
     "data": {
      "text/plain": [
       "'I am a ******** coder.'"
      ]
     },
     "execution_count": 10,
     "metadata": {},
     "output_type": "execute_result"
    }
   ],
   "source": [
    "sentence = str(input(\"Give me a sentence: \"))\n",
    "bad_words = [] # empty list for profanity\n",
    "\n",
    "def censor_sentence(sentence, bad_words): \n",
    "    words = sentence.split() # .split is a builtin function for splitting a string into a list\n",
    "\n",
    "    if bad_word not in bad_words:\n",
    "        bad_words.append(bad_word)\n",
    "    else:\n",
    "        pass\n",
    "    \n",
    "    for i in range(len(words)):\n",
    "        if words[i].lower() in [bad.lower() for bad in bad_words]: # using .lower to make it case-insensitive\n",
    "            # if a word in index i in the list words is a bad word in the list of bad_words\n",
    "            # then the code below will run\n",
    "            words[i] = '*' * len(words[i]) # we replace the bad word with * according to its length\n",
    "\n",
    "    return ' '.join(words) # .join is a builtin function with the syntax 'strSeparator'.join(listName)\n",
    "        # for joining a list back together. we use it to put the sentence back together\n",
    "\n",
    "print(sentence)\n",
    "censor_sentence(sentence, ['terrible', 'horrible', 'bad'])\n"
   ]
  },
  {
   "cell_type": "code",
   "execution_count": 11,
   "id": "6e122945-d258-4d1d-bb5f-04d4a09840ac",
   "metadata": {},
   "outputs": [],
   "source": [
    "\"\"\"\n",
    "    quadlog.py\n",
    "\"\"\"\n",
    "\n",
    "import math\n",
    "\n",
    "def quadratic_formula(a, b, c):\n",
    "    file = open('quadratic_log.text', 'a') # using 'a' append instead of 'w' so that we won't overwrite \n",
    "        # it everytime we use the function\n",
    "\n",
    "    file.write(f\"Solving for a: {a}, b: {b}, c: {c} \\n\")\n",
    "        \n",
    "    # friendly reminder that discriminant is b^2 - 4ac and determined how many roots the function has\n",
    "    if b**2 - (4*a*c) < 0: # checks if the discriminant is negative. Negative discriminant means \n",
    "        # equation has complex (imaginary) roots\n",
    "        x1 = (complex(-b, math.floor(math.sqrt(abs(b**2 - (4*a*c)))))) / (2*a) # -b is real, other is imaginary.\n",
    "        # math.sqrt(abs(b**2 - (4*a*c))) takes the square root of the absolute value of the discriminant\n",
    "        # math.floor() rounds down the expression to the nearest integer\n",
    "        # divide everything by 2a to get the first root of the equation\n",
    "        x2 = (complex(-b, -1 * math.floor(math.sqrt(abs(b**2 - (4*a*c)))))) / (2*a) # same with x1 \n",
    "            # except negative discriminant\n",
    "\n",
    "        file.write(f\"Imaginary Roots: {x1}, {x2}\\n\")\n",
    "        \n",
    "    else: \n",
    "        x1 = (-b + math.sqrt(b**2 - (4*a*c))) / (2*a)\n",
    "        x2 = (-b - math.sqrt(b**2 - (4*a*c))) / (2*a)\n",
    "\n",
    "        file.write(f\"Real Roots: {x1}, {x2}\\n\")\n",
    "\n",
    "    print('--------------\\n')\n",
    "\n",
    "    file.close"
   ]
  },
  {
   "cell_type": "code",
   "execution_count": null,
   "id": "d6ac4ffb-dbbe-4c46-a212-d7fb85ecbea7",
   "metadata": {},
   "outputs": [],
   "source": [
    "\"\"\"\n",
    "    main.py\n",
    "\"\"\"\n",
    "from quadlog import quadratic_formula\n",
    "\n",
    "quadratic_formula(1, 2, 3)\n",
    "\n",
    "# just to read the new log\n",
    "file = open(\"quadratic_log.txt\", 'r')\n",
    "data = file.read()\n",
    "print(data)\n",
    "file.close()\n",
    "\n",
    "# this is the output\n",
    "\"\"\"\n",
    "    Solving for a: 1, b: 2, c: 3\n",
    "    Imaginary Roots: (-1+1j), (-1-1j)\n",
    "\"\"\""
   ]
  },
  {
   "cell_type": "markdown",
   "id": "cac9593c-b218-4ed2-a849-bfa047255cf0",
   "metadata": {
    "jp-MarkdownHeadingCollapsed": true
   },
   "source": [
    "### Why do built-in functions exist?\n",
    "    I doubt Python would be Python or a programming language would be a programming language without built-in functions. They are standardized and allow for efficiency.ge."
   ]
  },
  {
   "cell_type": "markdown",
   "id": "12db664f-f8c8-4bdf-966f-41bc5eec73f2",
   "metadata": {
    "jp-MarkdownHeadingCollapsed": true
   },
   "source": [
    "### What are the advantages/disadvantages of placing code inside functions vs. sequential codes?\n",
    "    Sequential code is better for a code that is short, simple, single-use and fast. Using functions allow for code organization and reusability, without having to copy-paste lines of code again and again."
   ]
  },
  {
   "cell_type": "markdown",
   "id": "8e4a40c1-1c21-4d33-90c5-8696ad84ea62",
   "metadata": {
    "jp-MarkdownHeadingCollapsed": true
   },
   "source": [
    "### What is the different between a function and a module?\n",
    "    A function are blocks of code used to organize and reuse code. Modules are files which can contain functions, variables, and classes. They are also reusable and used to organize files during large-scale coding. You can call on modules by using the import function."
   ]
  },
  {
   "cell_type": "markdown",
   "id": "ceaca442-d88d-4ca0-a56b-d73339129704",
   "metadata": {},
   "source": [
    "### Discuss the difference between a module and a package.\n",
    "    If modules are files then packages are file drawers. So basically, packages contain related modules."
   ]
  },
  {
   "cell_type": "code",
   "execution_count": null,
   "id": "7431abd8-5ea4-4103-aa24-afabadfb87fa",
   "metadata": {},
   "outputs": [],
   "source": []
  }
 ],
 "metadata": {
  "kernelspec": {
   "display_name": "Python 3 (ipykernel)",
   "language": "python",
   "name": "python3"
  },
  "language_info": {
   "codemirror_mode": {
    "name": "ipython",
    "version": 3
   },
   "file_extension": ".py",
   "mimetype": "text/x-python",
   "name": "python",
   "nbconvert_exporter": "python",
   "pygments_lexer": "ipython3",
   "version": "3.12.4"
  }
 },
 "nbformat": 4,
 "nbformat_minor": 5
}
